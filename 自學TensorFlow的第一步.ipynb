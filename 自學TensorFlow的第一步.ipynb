{
 "cells": [
  {
   "cell_type": "markdown",
   "metadata": {},
   "source": [
    "# 稍微預習numpy的方法\n",
    "[np.float32(某個Array)](https://docs.scipy.org/doc/numpy/user/basics.types.html)()<br>\n",
    "[np.dot(a, b, out=None)](https://docs.scipy.org/doc/numpy/reference/generated/numpy.dot.html)<br>\n",
    "[np.random.rand(rows, columns)](https://docs.scipy.org/doc/numpy/reference/generated/numpy.random.rand.html) <br>\n",
    "\n",
    "1. 回傳 某個numpyArray，其型態為float32\n",
    "```python\n",
    "np.float32(某個numpyArray) \n",
    "```\n",
    "2. 使用 Numpy 生成假的數據，格式為2個row 乘上 100個column\n",
    "```python\n",
    "np.random.rand(2, 100)\n",
    "```\n",
    "3. 對於2-D陣列來說，相當於矩陣乘法\n",
    "np.dot(a, b, out=None) \n",
    "```python\n",
    "np.dot([0.100, 0.200], x_data) \n",
    "```\n"
   ]
  },
  {
   "cell_type": "code",
   "execution_count": 11,
   "metadata": {
    "collapsed": true
   },
   "outputs": [],
   "source": [
    "import tensorflow as tf\n",
    "import numpy as np\n",
    "\n",
    "# 使用 Numpy 生成假的數據，x_data為numpy的陣列裡面有2x100個隨機浮點數，代表100組(w, b)\n",
    "x_data = np.float32(np.random.rand(2, 100))\n",
    "# y_data是 將x_data丟入正確模型所產生的正確結果，一樣是100組\n",
    "y_data = np.dot([0.100, 0.200], x_data) + 0.300\n",
    "\n"
   ]
  },
  {
   "cell_type": "markdown",
   "metadata": {},
   "source": [
    "# 建置要學習的模型&收斂的方法"
   ]
  },
  {
   "cell_type": "code",
   "execution_count": 12,
   "metadata": {},
   "outputs": [],
   "source": [
    "# 建構一個線性模型\n",
    "b = tf.Variable(tf.zeros([1]))\n",
    "W = tf.Variable(tf.random_uniform([1, 2], -1.0, 1.0))\n",
    "y = tf.matmul(W, x_data) + b"
   ]
  },
  {
   "cell_type": "code",
   "execution_count": 13,
   "metadata": {
    "collapsed": true
   },
   "outputs": [],
   "source": [
    "# 最小化平方差\n",
    "loss = tf.reduce_mean(tf.square(y - y_data))\n",
    "optimizer = tf.train.GradientDescentOptimizer(0.5)\n",
    "train = optimizer.minimize(loss)"
   ]
  },
  {
   "cell_type": "markdown",
   "metadata": {},
   "source": [
    "# tensorflow學習的建置\n"
   ]
  },
  {
   "cell_type": "code",
   "execution_count": 14,
   "metadata": {},
   "outputs": [
    {
     "name": "stdout",
     "output_type": "stream",
     "text": [
      "WARNING:tensorflow:From <ipython-input-14-94205efd3b21>:2: initialize_all_variables (from tensorflow.python.ops.variables) is deprecated and will be removed after 2017-03-02.\n",
      "Instructions for updating:\n",
      "Use `tf.global_variables_initializer` instead.\n",
      "0 [[ 0.95142436 -0.59718579]] [ 0.53404629]\n",
      "20 [[ 0.16101713  0.07318582]] [ 0.33221942]\n",
      "40 [[ 0.09901064  0.17648405]] [ 0.31255656]\n",
      "60 [[ 0.09724878  0.19419302]] [ 0.30444175]\n",
      "80 [[ 0.09879745  0.19827135]] [ 0.30152741]\n",
      "100 [[ 0.09956199  0.19944035]] [ 0.30052054]\n",
      "120 [[ 0.09984802  0.1998131 ]] [ 0.30017689]\n",
      "140 [[ 0.09994804  0.1999369 ]] [ 0.30006006]\n",
      "160 [[ 0.09998231  0.19997862]] [ 0.3000204]\n",
      "180 [[ 0.099994    0.19999276]] [ 0.30000693]\n",
      "200 [[ 0.09999797  0.19999756]] [ 0.30000234]\n"
     ]
    }
   ],
   "source": [
    "# 初始化變數\n",
    "init = tf.initialize_all_variables()\n",
    "\n",
    "# 啟動圖(graph)\n",
    "sess = tf.Session()\n",
    "sess.run(init)\n",
    "\n",
    "# 利用graph學習模型\n",
    "for step in range(0, 201):\n",
    "    sess.run(train)\n",
    "    if step % 20 == 0:\n",
    "        print(step, sess.run(W), sess.run(b))"
   ]
  }
 ],
 "metadata": {
  "kernelspec": {
   "display_name": "Python [conda env:py35]",
   "language": "python",
   "name": "conda-env-py35-py"
  },
  "language_info": {
   "codemirror_mode": {
    "name": "ipython",
    "version": 3
   },
   "file_extension": ".py",
   "mimetype": "text/x-python",
   "name": "python",
   "nbconvert_exporter": "python",
   "pygments_lexer": "ipython3",
   "version": "3.5.3"
  }
 },
 "nbformat": 4,
 "nbformat_minor": 2
}
