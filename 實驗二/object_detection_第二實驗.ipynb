{
 "cells": [
  {
   "cell_type": "markdown",
   "metadata": {},
   "source": [
    "# tensorFlow物件偵測的 Demo"
   ]
  },
  {
   "cell_type": "markdown",
   "metadata": {},
   "source": [
    "# Imports"
   ]
  },
  {
   "cell_type": "code",
   "execution_count": 1,
   "metadata": {
    "scrolled": true
   },
   "outputs": [
    {
     "name": "stdout",
     "output_type": "stream",
     "text": [
      "成功import12\n"
     ]
    }
   ],
   "source": [
    "import numpy as np\n",
    "import os\n",
    "import six.moves.urllib as urllib\n",
    "import sys\n",
    "import tarfile\n",
    "import tensorflow as tf\n",
    "import zipfile\n",
    "\n",
    "from collections import defaultdict\n",
    "from io import StringIO\n",
    "from matplotlib import pyplot as plt\n",
    "from PIL import Image\n",
    "print('成功import12')"
   ]
  },
  {
   "cell_type": "markdown",
   "metadata": {},
   "source": [
    "## Env setup"
   ]
  },
  {
   "cell_type": "code",
   "execution_count": 2,
   "metadata": {},
   "outputs": [
    {
     "name": "stdout",
     "output_type": "stream",
     "text": [
      "env ok\n"
     ]
    }
   ],
   "source": [
    "# This is needed to display the images.\n",
    "%matplotlib inline\n",
    "\n",
    "# This is needed since the notebook is stored in the object_detection folder.\n",
    "sys.path.append(\"..\")\n",
    "print('env ok')"
   ]
  },
  {
   "cell_type": "markdown",
   "metadata": {},
   "source": [
    "## Object detection imports\n",
    "Here are the imports from the object detection module."
   ]
  },
  {
   "cell_type": "code",
   "execution_count": 3,
   "metadata": {},
   "outputs": [
    {
     "name": "stdout",
     "output_type": "stream",
     "text": [
      "ok\n"
     ]
    }
   ],
   "source": [
    "from utils import label_map_util\n",
    "# 內含有將物件偵測結果視覺化的API\n",
    "from utils import visualization_utils as vis_util\n",
    "print('ok')"
   ]
  },
  {
   "cell_type": "markdown",
   "metadata": {},
   "source": [
    "# Model preparation "
   ]
  },
  {
   "cell_type": "markdown",
   "metadata": {},
   "source": [
    "## Variables\n",
    "\n",
    "Any model exported using the `export_inference_graph.py` tool can be loaded here simply by changing `PATH_TO_CKPT` to point to a new .pb file.  \n",
    "\n",
    "By default we use an \"SSD with Mobilenet\" model here. See the [detection model zoo](https://github.com/tensorflow/models/blob/master/object_detection/g3doc/detection_model_zoo.md) for a list of other models that can be run out-of-the-box with varying speeds and accuracies."
   ]
  },
  {
   "cell_type": "code",
   "execution_count": 4,
   "metadata": {},
   "outputs": [
    {
     "name": "stdout",
     "output_type": "stream",
     "text": [
      "Model preparation is ok...\n"
     ]
    }
   ],
   "source": [
    "# What model to download.\n",
    "# TF已經訓練好的模型名稱\n",
    "MODEL_NAME = 'ssd_mobilenet_v1_coco_11_06_2017'\n",
    "# TF已經訓練好的模型檔案(本身是一個tar.gz的壓縮檔)\n",
    "MODEL_FILE = MODEL_NAME + '.tar.gz'\n",
    "\n",
    "# 這個TF訓練好模型 所在網站的目錄名稱\n",
    "DOWNLOAD_BASE = 'http://download.tensorflow.org/models/object_detection/'\n",
    "\n",
    "# TF實際用來做物件偵測的模型 \n",
    "# Path to frozen detection graph. This is the actual model that is used for the object detection.\n",
    "PATH_TO_CKPT = MODEL_NAME + '/frozen_inference_graph.pb'\n",
    "\n",
    "# 這個模型對應到的種類txt檔，內涵每個種類的索引&名稱\n",
    "# 之後物件偵測得到的資訊會是索引，所以需要此文件參考名稱\n",
    "# List of the strings that is used to add correct label for each box.\n",
    "PATH_TO_LABELS = os.path.join('data', 'mscoco_label_map.pbtxt')\n",
    "\n",
    "# 預設模型種類數量 為90種\n",
    "NUM_CLASSES = 90\n",
    "print('Model preparation is ok...')"
   ]
  },
  {
   "cell_type": "markdown",
   "metadata": {},
   "source": [
    "## Download Model (如果之前下載過模組，那該這個區塊可以不用再執行一次)"
   ]
  },
  {
   "cell_type": "code",
   "execution_count": 5,
   "metadata": {
    "collapsed": true
   },
   "outputs": [],
   "source": [
    "# opener = urllib.request.URLopener()\n",
    "# # opener.retrieve(下載的檔案來源, 下載的檔案存放的本地位址)\n",
    "# opener.retrieve(DOWNLOAD_BASE + MODEL_FILE, MODEL_FILE)\n",
    "\n",
    "# tar_file = tarfile.open(MODEL_FILE)\n",
    "# for file in tar_file.getmembers():\n",
    "#     file_name = os.path.basename(file.name)\n",
    "#     if 'frozen_inference_graph.pb' in file_name:\n",
    "#         tar_file.extract(file, os.getcwd())\n",
    "# print('Download Model is ok', os.getcwd())"
   ]
  },
  {
   "cell_type": "markdown",
   "metadata": {},
   "source": [
    "## Load a (frozen) Tensorflow model into memory."
   ]
  },
  {
   "cell_type": "code",
   "execution_count": 6,
   "metadata": {
    "collapsed": true
   },
   "outputs": [],
   "source": [
    "detection_graph = tf.Graph()\n",
    "with detection_graph.as_default():\n",
    "    od_graph_def = tf.GraphDef()\n",
    "    with tf.gfile.GFile(PATH_TO_CKPT, 'rb') as fid:\n",
    "        serialized_graph = fid.read()\n",
    "        od_graph_def.ParseFromString(serialized_graph)\n",
    "        tf.import_graph_def(od_graph_def, name='')"
   ]
  },
  {
   "cell_type": "markdown",
   "metadata": {},
   "source": [
    "## Loading label map\n",
    "Label maps map indices to category names,\n",
    "\n",
    "so that when our convolution network predicts `5`, we know that this corresponds to `airplane`.  \n",
    "\n",
    "Here we use internal utility functions, but anything that returns a dictionary mapping integers to appropriate string labels would be fine"
   ]
  },
  {
   "cell_type": "code",
   "execution_count": 7,
   "metadata": {},
   "outputs": [
    {
     "name": "stdout",
     "output_type": "stream",
     "text": [
      "{1: {'name': 'person', 'id': 1}, 2: {'name': 'bicycle', 'id': 2}, 3: {'name': 'car', 'id': 3}, 4: {'name': 'motorcycle', 'id': 4}, 5: {'name': 'airplane', 'id': 5}, 6: {'name': 'bus', 'id': 6}, 7: {'name': 'train', 'id': 7}, 8: {'name': 'truck', 'id': 8}, 9: {'name': 'boat', 'id': 9}, 10: {'name': 'traffic light', 'id': 10}, 11: {'name': 'fire hydrant', 'id': 11}, 13: {'name': 'stop sign', 'id': 13}, 14: {'name': 'parking meter', 'id': 14}, 15: {'name': 'bench', 'id': 15}, 16: {'name': 'bird', 'id': 16}, 17: {'name': 'cat', 'id': 17}, 18: {'name': 'dog', 'id': 18}, 19: {'name': 'horse', 'id': 19}, 20: {'name': 'sheep', 'id': 20}, 21: {'name': 'cow', 'id': 21}, 22: {'name': 'elephant', 'id': 22}, 23: {'name': 'bear', 'id': 23}, 24: {'name': 'zebra', 'id': 24}, 25: {'name': 'giraffe', 'id': 25}, 27: {'name': 'backpack', 'id': 27}, 28: {'name': 'umbrella', 'id': 28}, 31: {'name': 'handbag', 'id': 31}, 32: {'name': 'tie', 'id': 32}, 33: {'name': 'suitcase', 'id': 33}, 34: {'name': 'frisbee', 'id': 34}, 35: {'name': 'skis', 'id': 35}, 36: {'name': 'snowboard', 'id': 36}, 37: {'name': 'sports ball', 'id': 37}, 38: {'name': 'kite', 'id': 38}, 39: {'name': 'baseball bat', 'id': 39}, 40: {'name': 'baseball glove', 'id': 40}, 41: {'name': 'skateboard', 'id': 41}, 42: {'name': 'surfboard', 'id': 42}, 43: {'name': 'tennis racket', 'id': 43}, 44: {'name': 'bottle', 'id': 44}, 46: {'name': 'wine glass', 'id': 46}, 47: {'name': 'cup', 'id': 47}, 48: {'name': 'fork', 'id': 48}, 49: {'name': 'knife', 'id': 49}, 50: {'name': 'spoon', 'id': 50}, 51: {'name': 'bowl', 'id': 51}, 52: {'name': 'banana', 'id': 52}, 53: {'name': 'apple', 'id': 53}, 54: {'name': 'sandwich', 'id': 54}, 55: {'name': 'orange', 'id': 55}, 56: {'name': 'broccoli', 'id': 56}, 57: {'name': 'carrot', 'id': 57}, 58: {'name': 'hot dog', 'id': 58}, 59: {'name': 'pizza', 'id': 59}, 60: {'name': 'donut', 'id': 60}, 61: {'name': 'cake', 'id': 61}, 62: {'name': 'chair', 'id': 62}, 63: {'name': 'couch', 'id': 63}, 64: {'name': 'potted plant', 'id': 64}, 65: {'name': 'bed', 'id': 65}, 67: {'name': 'dining table', 'id': 67}, 70: {'name': 'toilet', 'id': 70}, 72: {'name': 'tv', 'id': 72}, 73: {'name': 'laptop', 'id': 73}, 74: {'name': 'mouse', 'id': 74}, 75: {'name': 'remote', 'id': 75}, 76: {'name': 'keyboard', 'id': 76}, 77: {'name': 'cell phone', 'id': 77}, 78: {'name': 'microwave', 'id': 78}, 79: {'name': 'oven', 'id': 79}, 80: {'name': 'toaster', 'id': 80}, 81: {'name': 'sink', 'id': 81}, 82: {'name': 'refrigerator', 'id': 82}, 84: {'name': 'book', 'id': 84}, 85: {'name': 'clock', 'id': 85}, 86: {'name': 'vase', 'id': 86}, 87: {'name': 'scissors', 'id': 87}, 88: {'name': 'teddy bear', 'id': 88}, 89: {'name': 'hair drier', 'id': 89}, 90: {'name': 'toothbrush', 'id': 90}}\n"
     ]
    }
   ],
   "source": [
    "label_map = label_map_util.load_labelmap(PATH_TO_LABELS)\n",
    "categories = (label_map_util.convert_label_map_to_categories(\n",
    "    label_map, \n",
    "    max_num_classes=NUM_CLASSES, \n",
    "    use_display_name=True))\n",
    "\n",
    "category_index = label_map_util.create_category_index(categories)\n",
    "print(category_index)"
   ]
  },
  {
   "cell_type": "markdown",
   "metadata": {},
   "source": [
    "## Helper code"
   ]
  },
  {
   "cell_type": "code",
   "execution_count": 8,
   "metadata": {
    "collapsed": true
   },
   "outputs": [],
   "source": [
    "def load_image_into_numpy_array(image):\n",
    "  (im_width, im_height) = image.size\n",
    "  return np.array(image.getdata()).reshape(\n",
    "      (im_height, im_width, 3)).astype(np.uint8)"
   ]
  },
  {
   "cell_type": "markdown",
   "metadata": {},
   "source": [
    "# Detection"
   ]
  },
  {
   "cell_type": "code",
   "execution_count": 10,
   "metadata": {
    "collapsed": true
   },
   "outputs": [],
   "source": [
    "import time \n",
    "\n",
    "# For the sake of simplicity we will use only 2 images:\n",
    "# image1.jpg\n",
    "# image2.jpg\n",
    "# If you want to test the code with your images, just add path to the images to the TEST_IMAGE_PATHS.\n",
    "PATH_TO_TEST_IMAGES_DIR = 'test_images'\n",
    "\n",
    "TEST_IMAGE_PATHS = [ os.path.join(PATH_TO_TEST_IMAGES_DIR, 'image{}.jpg'.format(i)) for i in range(7, 9) ]\n",
    "# Size, in inches, of the output images.\n",
    "IMAGE_SIZE = (12, 8)"
   ]
  },
  {
   "cell_type": "code",
   "execution_count": 14,
   "metadata": {
    "scrolled": false
   },
   "outputs": [
    {
     "name": "stdout",
     "output_type": "stream",
     "text": [
      "-----------------------------------------------------\n",
      "-----------------------------------------------------\n",
      "---------------- test_images/image7.jpg--------------\n",
      "-----------------------------------------------------\n",
      "-----------------------------------------------------\n",
      "person : 1\n",
      "dog : 1\n",
      "每個圖片建立檔案結束: 3.3040599822998047\n",
      "-----------------------------------------------------\n",
      "-----------------------------------------------------\n",
      "---------------- test_images/image8.jpg--------------\n",
      "-----------------------------------------------------\n",
      "-----------------------------------------------------\n",
      "dog : 3\n",
      "每個圖片建立檔案結束: 0.8103010654449463\n"
     ]
    }
   ],
   "source": [
    "\n",
    "image_obj_data = []\n",
    "\n",
    "with detection_graph.as_default():\n",
    "  with tf.Session(graph=detection_graph) as sess:\n",
    "    for image_path in TEST_IMAGE_PATHS:\n",
    "      tStart = time.time()\n",
    "      image = Image.open(image_path)\n",
    "      # the array based representation of the image will be used later in order to prepare the\n",
    "      # result image with boxes and labels on it.\n",
    "      image_np = load_image_into_numpy_array(image)\n",
    "      # Expand dimensions since the model expects images to have shape: [1, None, None, 3]\n",
    "      image_np_expanded = np.expand_dims(image_np, axis=0)\n",
    "      image_tensor = detection_graph.get_tensor_by_name('image_tensor:0')\n",
    "      # Each box represents a part of the image where a particular object was detected.\n",
    "      boxes = detection_graph.get_tensor_by_name('detection_boxes:0')\n",
    "      # Each score represent how level of confidence for each of the objects.\n",
    "      # Score is shown on the result image, together with the class label.\n",
    "      scores = detection_graph.get_tensor_by_name('detection_scores:0')\n",
    "      classes = detection_graph.get_tensor_by_name('detection_classes:0')\n",
    "      num_detections = detection_graph.get_tensor_by_name('num_detections:0')\n",
    "      # Actual detection.\n",
    "      (boxes, scores, classes, num_detections) = sess.run(\n",
    "          [boxes, scores, classes, num_detections],\n",
    "          feed_dict={image_tensor: image_np_expanded})\n",
    "      \n",
    "#     # 印出每個物件的位置.分數.種類\n",
    "#       print('boxes[0]:', boxes[0])\n",
    "#       print('scores[0]:', scores[0])\n",
    "#       print('classes:', classes)\n",
    "#       print('\\n\\n\\n')\n",
    "      for i in range(2):\n",
    "          print(\"-----------------------------------------------------\")\n",
    "      print('---------------- %s--------------' % image_path)      \n",
    "      for i in range(2):\n",
    "        print(\"-----------------------------------------------------\")\n",
    "      # 分數高於0.5的才可以視為相符\n",
    "      obj_length = len([x for x in scores[0] if x > 0.5])\n",
    "      width, height = image.size\n",
    "    \n",
    "      # 第一實驗魔改_Begin 該圖片所有的物件種類   \n",
    "      all_objs = classes[0]\n",
    "      ok_objs = all_objs[0:obj_length]\n",
    "      objs_classes = set(ok_objs)\n",
    "    \n",
    "      # Result 1 對應原始物件索引陣列的字典(Key為類別名， Value為對應原始陣列的物件索引陣列)\n",
    "      img_classes = dict()\n",
    "\n",
    "      for obj_class in objs_classes:\n",
    "        img_classes[category_index[obj_class]['name']] = len(np.nonzero(ok_objs == obj_class)[0])\n",
    "        print(category_index[obj_class]['name'], ':', len(np.nonzero(ok_objs == obj_class)[0]))\n",
    "#         print('種類:', category_index[obj_class]['name'])\n",
    "#         print(np.nonzero(ok_objs == obj_class)[0], '有', len(np.nonzero(ok_objs == obj_class)[0]),'個') \n",
    "\n",
    "#       # Result 2 原始物件的標記位置陣列[(x1, y1, x2, y2)]\n",
    "#       img_obj_coordinates = boxes[0][0:obj_length]\n",
    "        \n",
    "#       # Result 3 原始物件的相似分數陣列\n",
    "#       img_obj_scores = scores[0][0:obj_length]\n",
    "\n",
    "      # 第一實驗魔改_End\n",
    "      image_obj_data.append(img_classes)\n",
    "      tEnd = time.time()\n",
    "      print('每個圖片建立檔案結束:', tEnd - tStart)\n"
   ]
  },
  {
   "cell_type": "code",
   "execution_count": 12,
   "metadata": {},
   "outputs": [
    {
     "name": "stdout",
     "output_type": "stream",
     "text": [
      "image_obj_data: [{'person': 1, 'dog': 1}, {'dog': 2}]\n",
      "query: {'car': 1}\n",
      "-----------------\n",
      "image 0 :\n",
      "dict_items([('car', 1)])\n",
      "dict_items([('person', 1), ('dog', 1)])\n",
      "種類數量不對等\n",
      "\n",
      "image 1 :\n",
      "dict_items([('car', 1)])\n",
      "dict_items([('dog', 2)])\n",
      "種類數量不對等\n",
      "\n",
      "第二實驗_比對結束: 0.0018870830535888672\n"
     ]
    }
   ],
   "source": [
    "# 實驗2\n",
    "# 此為一對多的實驗\n",
    "# 讀取一個Query(Ex: 1 個Person, 2個Dog)，從20張圖片挑出符合Query條件的圖片。\n",
    "\n",
    "tStart = time.time()\n",
    "\n",
    "# query = {'kite':4,'person': 4}\n",
    "# query = {'dog': 2}\n",
    "query = {'car': 1}\n",
    "print('image_obj_data:', image_obj_data)\n",
    "print('query:', query)\n",
    "print('-----------------')\n",
    "for img_key, img_objs in enumerate(image_obj_data):\n",
    "    print('image', img_key, ':')\n",
    "    if query == img_objs:\n",
    "        print('比對成功\\n')\n",
    "    else:\n",
    "        print(query.items())\n",
    "        print(img_objs.items())\n",
    "        print('種類數量不對等\\n')\n",
    "#     for img_class in img_objs:\n",
    "#         print('種類:', img_class,', 數量:', img_objs[img_class])\n",
    "#     diffkeys = [k for k in img_objs if img_objs[k] != query[k]]\n",
    "#     print('diffkeys:', diffkeys)\n",
    "#     print('\\n')\n",
    "\n",
    "\n",
    "tEnd = time.time()\n",
    "print('第二實驗_比對結束:', tEnd - tStart)\n"
   ]
  },
  {
   "cell_type": "code",
   "execution_count": null,
   "metadata": {
    "collapsed": true
   },
   "outputs": [],
   "source": []
  }
 ],
 "metadata": {
  "anaconda-cloud": {},
  "kernelspec": {
   "display_name": "Python [conda env:py35]",
   "language": "python",
   "name": "conda-env-py35-py"
  },
  "language_info": {
   "codemirror_mode": {
    "name": "ipython",
    "version": 3
   },
   "file_extension": ".py",
   "mimetype": "text/x-python",
   "name": "python",
   "nbconvert_exporter": "python",
   "pygments_lexer": "ipython3",
   "version": "3.5.3"
  }
 },
 "nbformat": 4,
 "nbformat_minor": 2
}
